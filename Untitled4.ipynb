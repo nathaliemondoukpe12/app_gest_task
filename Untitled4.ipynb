{
  "nbformat": 4,
  "nbformat_minor": 0,
  "metadata": {
    "colab": {
      "provenance": [],
      "authorship_tag": "ABX9TyO9vDL/TlmgBrJ0Juz4KgeS",
      "include_colab_link": true
    },
    "kernelspec": {
      "name": "python3",
      "display_name": "Python 3"
    },
    "language_info": {
      "name": "python"
    }
  },
  "cells": [
    {
      "cell_type": "markdown",
      "metadata": {
        "id": "view-in-github",
        "colab_type": "text"
      },
      "source": [
        "<a href=\"https://colab.research.google.com/github/nathaliemondoukpe12/app_gest_task/blob/main/Untitled4.ipynb\" target=\"_parent\"><img src=\"https://colab.research.google.com/assets/colab-badge.svg\" alt=\"Open In Colab\"/></a>"
      ]
    },
    {
      "cell_type": "code",
      "execution_count": null,
      "metadata": {
        "colab": {
          "base_uri": "https://localhost:8080/"
        },
        "id": "cLBBFkRaU4uU",
        "outputId": "35b03b13-433d-4638-9a4f-8989cc311d80"
      },
      "outputs": [
        {
          "output_type": "stream",
          "name": "stdout",
          "text": [
            "        ID          Name   HP  Attack  Defense  Sp. Attack  Sp. Defense  \\\n",
            "0        1     Bulbasaur   45      49       49          65           65   \n",
            "1        2       Ivysaur   60      62       63          80           80   \n",
            "2        3      Venusaur   80      82       83         100          100   \n",
            "3        4    Charmander   39      52       43          60           50   \n",
            "4        5    Charmeleon   58      64       58          80           65   \n",
            "...    ...           ...  ...     ...      ...         ...          ...   \n",
            "1020  1021   Raging Bolt  125      73       91         137           89   \n",
            "1021  1022  Iron Boulder   90     120       80          68          108   \n",
            "1022  1023    Iron Crown   90      72      100         122          108   \n",
            "1023  1024     Terapagos   90      65       85          65           85   \n",
            "1024  1025     Pecharunt   88      88      160          88           88   \n",
            "\n",
            "      Speed  Base_Stats  normal_weakness  ...  Classification_info  \\\n",
            "0        45         318              1.0  ...                 Seed   \n",
            "1        60         405              1.0  ...                 Seed   \n",
            "2        80         525              1.0  ...                 Seed   \n",
            "3        65         309              1.0  ...               Lizard   \n",
            "4        80         405              1.0  ...                Flame   \n",
            "...     ...         ...              ...  ...                  ...   \n",
            "1020     75         590              1.0  ...              Paradox   \n",
            "1021    124         590              0.5  ...              Paradox   \n",
            "1022     98         590              0.5  ...              Paradox   \n",
            "1023     60         450              1.0  ...                 Tera   \n",
            "1024     88         600              0.0  ...          Subjugation   \n",
            "\n",
            "                                         Forms  gen  Is_Legendary  \\\n",
            "0                                          NaN    1             0   \n",
            "1                                          NaN    1             0   \n",
            "2                                Mega Venusaur    1             0   \n",
            "3                                          NaN    1             0   \n",
            "4                                          NaN    1             0   \n",
            "...                                        ...  ...           ...   \n",
            "1020                                       NaN    9             0   \n",
            "1021                                       NaN    9             0   \n",
            "1022                                       NaN    9             0   \n",
            "1023  Normal Form; Terastal Form; Stellar Form    9             1   \n",
            "1024                                       NaN    9             0   \n",
            "\n",
            "      Is_Mythical  Is_Ultra_Beast  number_immune  number_not_effective  \\\n",
            "0               0               0              0                     5   \n",
            "1               0               0              0                     5   \n",
            "2               0               0              0                     5   \n",
            "3               0               0              0                     6   \n",
            "4               0               0              0                     6   \n",
            "...           ...             ...            ...                   ...   \n",
            "1020            0               0              0                     6   \n",
            "1021            0               0              0                     5   \n",
            "1022            0               0              1                     9   \n",
            "1023            0               0              1                     0   \n",
            "1024            1               0              2                     4   \n",
            "\n",
            "      number_normal  number_super_effective  \n",
            "0                 9                       4  \n",
            "1                 9                       4  \n",
            "2                 9                       4  \n",
            "3                 9                       3  \n",
            "4                 9                       3  \n",
            "...             ...                     ...  \n",
            "1020              8                       4  \n",
            "1021              6                       7  \n",
            "1022              4                       4  \n",
            "1023             16                       1  \n",
            "1024              8                       4  \n",
            "\n",
            "[1025 rows x 48 columns]\n"
          ]
        }
      ],
      "source": [
        "#connaitre les informations concernant la base\n",
        "import pandas as pd\n",
        "df = pd.read_csv(\"/content/pokemon_data.csv\")\n",
        "print(df)"
      ]
    },
    {
      "cell_type": "code",
      "source": [
        "df.info()"
      ],
      "metadata": {
        "colab": {
          "base_uri": "https://localhost:8080/"
        },
        "id": "-6xd4XtscRpr",
        "outputId": "ba13085c-3808-465c-d869-3a8fe7fd6faf"
      },
      "execution_count": null,
      "outputs": [
        {
          "output_type": "stream",
          "name": "stdout",
          "text": [
            "<class 'pandas.core.frame.DataFrame'>\n",
            "RangeIndex: 1025 entries, 0 to 1024\n",
            "Data columns (total 48 columns):\n",
            " #   Column                  Non-Null Count  Dtype  \n",
            "---  ------                  --------------  -----  \n",
            " 0   ID                      1025 non-null   int64  \n",
            " 1   Name                    1025 non-null   object \n",
            " 2   HP                      1025 non-null   int64  \n",
            " 3   Attack                  1025 non-null   int64  \n",
            " 4   Defense                 1025 non-null   int64  \n",
            " 5   Sp. Attack              1025 non-null   int64  \n",
            " 6   Sp. Defense             1025 non-null   int64  \n",
            " 7   Speed                   1025 non-null   int64  \n",
            " 8   Base_Stats              1025 non-null   int64  \n",
            " 9   normal_weakness         1025 non-null   float64\n",
            " 10  fire_weakness           1025 non-null   float64\n",
            " 11  water_weakness          1025 non-null   float64\n",
            " 12  electric_weakness       1025 non-null   float64\n",
            " 13  grass_weakness          1025 non-null   float64\n",
            " 14  ice_weakness            1025 non-null   float64\n",
            " 15  fighting_weakness       1025 non-null   float64\n",
            " 16  poison_weakness         1025 non-null   float64\n",
            " 17  ground_weakness         1025 non-null   float64\n",
            " 18  flying_weakness         1025 non-null   float64\n",
            " 19  psychic_weakness        1025 non-null   float64\n",
            " 20  bug_weakness            1025 non-null   float64\n",
            " 21  rock_weakness           1025 non-null   float64\n",
            " 22  ghost_weakness          1025 non-null   float64\n",
            " 23  dragon_weakness         1025 non-null   float64\n",
            " 24  dark_weakness           1025 non-null   float64\n",
            " 25  steel_weakness          1025 non-null   float64\n",
            " 26  fairy_weakness          1025 non-null   float64\n",
            " 27  height_inches           1025 non-null   int64  \n",
            " 28  height_meters           1025 non-null   float64\n",
            " 29  weight_pounds           1025 non-null   float64\n",
            " 30  weight_kilograms        1025 non-null   float64\n",
            " 31  capturing_rate          1025 non-null   int64  \n",
            " 32  gender_male_ratio       870 non-null    float64\n",
            " 33  egg_steps               1025 non-null   int64  \n",
            " 34  egg_cycles              1025 non-null   int64  \n",
            " 35  abilities               1025 non-null   object \n",
            " 36  Type 1                  1025 non-null   object \n",
            " 37  Type 2                  526 non-null    object \n",
            " 38  Classification_info     1025 non-null   object \n",
            " 39  Forms                   153 non-null    object \n",
            " 40  gen                     1025 non-null   int64  \n",
            " 41  Is_Legendary            1025 non-null   int64  \n",
            " 42  Is_Mythical             1025 non-null   int64  \n",
            " 43  Is_Ultra_Beast          1025 non-null   int64  \n",
            " 44  number_immune           1025 non-null   int64  \n",
            " 45  number_not_effective    1025 non-null   int64  \n",
            " 46  number_normal           1025 non-null   int64  \n",
            " 47  number_super_effective  1025 non-null   int64  \n",
            "dtypes: float64(22), int64(20), object(6)\n",
            "memory usage: 384.5+ KB\n"
          ]
        }
      ]
    },
    {
      "cell_type": "code",
      "source": [
        "def get_var_category(series):\n",
        "    unique_count = series.nunique(dropna=False)\n",
        "    total_count = len(series)\n",
        "    if pd.api.types.is_numeric_dtype(series):\n",
        "        return 'Numerical'\n",
        "    elif pd.api.types.is_datetime64_dtype(series):\n",
        "        return 'Date'\n",
        "    elif unique_count==total_count:\n",
        "        return 'Text (Unique)'\n",
        "    else:\n",
        "        return 'Categorical'"
      ],
      "metadata": {
        "id": "zCToFawHgDT3"
      },
      "execution_count": null,
      "outputs": []
    },
    {
      "cell_type": "code",
      "source": [
        "def print_categories(df):\n",
        "    for column_name in df.columns:\n",
        "        print(column_name, \": \", get_var_category(df[column_name]))\n"
      ],
      "metadata": {
        "id": "NtrEUxFsgv3x"
      },
      "execution_count": null,
      "outputs": []
    },
    {
      "cell_type": "code",
      "source": [
        "print_categories(df)\n"
      ],
      "metadata": {
        "colab": {
          "base_uri": "https://localhost:8080/"
        },
        "id": "hU5fiIefg7x-",
        "outputId": "ff117fa7-c78e-4920-dabe-fce9b8c02e07"
      },
      "execution_count": null,
      "outputs": [
        {
          "output_type": "stream",
          "name": "stdout",
          "text": [
            "ID :  Numerical\n",
            "Name :  Text (Unique)\n",
            "HP :  Numerical\n",
            "Attack :  Numerical\n",
            "Defense :  Numerical\n",
            "Sp. Attack :  Numerical\n",
            "Sp. Defense :  Numerical\n",
            "Speed :  Numerical\n",
            "Base_Stats :  Numerical\n",
            "normal_weakness :  Numerical\n",
            "fire_weakness :  Numerical\n",
            "water_weakness :  Numerical\n",
            "electric_weakness :  Numerical\n",
            "grass_weakness :  Numerical\n",
            "ice_weakness :  Numerical\n",
            "fighting_weakness :  Numerical\n",
            "poison_weakness :  Numerical\n",
            "ground_weakness :  Numerical\n",
            "flying_weakness :  Numerical\n",
            "psychic_weakness :  Numerical\n",
            "bug_weakness :  Numerical\n",
            "rock_weakness :  Numerical\n",
            "ghost_weakness :  Numerical\n",
            "dragon_weakness :  Numerical\n",
            "dark_weakness :  Numerical\n",
            "steel_weakness :  Numerical\n",
            "fairy_weakness :  Numerical\n",
            "height_inches :  Numerical\n",
            "height_meters :  Numerical\n",
            "weight_pounds :  Numerical\n",
            "weight_kilograms :  Numerical\n",
            "capturing_rate :  Numerical\n",
            "gender_male_ratio :  Numerical\n",
            "egg_steps :  Numerical\n",
            "egg_cycles :  Numerical\n",
            "abilities :  Categorical\n",
            "Type 1 :  Categorical\n",
            "Type 2 :  Categorical\n",
            "Classification_info :  Categorical\n",
            "Forms :  Categorical\n",
            "gen :  Numerical\n",
            "Is_Legendary :  Numerical\n",
            "Is_Mythical :  Numerical\n",
            "Is_Ultra_Beast :  Numerical\n",
            "number_immune :  Numerical\n",
            "number_not_effective :  Numerical\n",
            "number_normal :  Numerical\n",
            "number_super_effective :  Numerical\n"
          ]
        }
      ]
    },
    {
      "cell_type": "code",
      "source": [
        "df = pd.read_csv(\"/content/pokemon_data.csv\")"
      ],
      "metadata": {
        "id": "oE6p4eKm5GKm"
      },
      "execution_count": 8,
      "outputs": []
    },
    {
      "cell_type": "code",
      "source": [
        "stat = df.describe()\n",
        "print(stat)\n"
      ],
      "metadata": {
        "colab": {
          "base_uri": "https://localhost:8080/"
        },
        "id": "5Pl6LpEI2uGT",
        "outputId": "39ec914e-ff6e-4713-b9df-646c3343fda9"
      },
      "execution_count": 9,
      "outputs": [
        {
          "output_type": "stream",
          "name": "stdout",
          "text": [
            "                ID           HP       Attack      Defense   Sp. Attack  \\\n",
            "count  1025.000000  1025.000000  1025.000000  1025.000000  1025.000000   \n",
            "mean    513.000000    70.184390    77.541463    72.526829    70.080976   \n",
            "std     296.036315    26.631054    29.813654    29.325282    29.658378   \n",
            "min       1.000000     1.000000     5.000000     5.000000    10.000000   \n",
            "25%     257.000000    50.000000    55.000000    50.000000    47.000000   \n",
            "50%     513.000000    68.000000    75.000000    70.000000    65.000000   \n",
            "75%     769.000000    85.000000   100.000000    90.000000    90.000000   \n",
            "max    1025.000000   255.000000   181.000000   230.000000   173.000000   \n",
            "\n",
            "       Sp. Defense        Speed   Base_Stats  normal_weakness  fire_weakness  \\\n",
            "count  1025.000000  1025.000000  1025.000000      1025.000000    1025.000000   \n",
            "mean     70.225366    67.186341   427.560976         0.872439       1.137317   \n",
            "std      26.686785    28.717227   112.878938         0.283858       0.677473   \n",
            "min      20.000000     5.000000   175.000000         0.000000       0.250000   \n",
            "25%      50.000000    45.000000   323.000000         1.000000       0.500000   \n",
            "50%      67.000000    65.000000   450.000000         1.000000       1.000000   \n",
            "75%      86.000000    88.000000   508.000000         1.000000       2.000000   \n",
            "max     230.000000   200.000000   720.000000         1.000000       4.000000   \n",
            "\n",
            "       ...     egg_steps   egg_cycles          gen  Is_Legendary  Is_Mythical  \\\n",
            "count  ...   1025.000000  1025.000000  1025.000000   1025.000000  1025.000000   \n",
            "mean   ...   6705.326829    97.675122     4.741463      0.062439     0.022439   \n",
            "std    ...   6434.958002    83.459634     2.633633      0.242069     0.148179   \n",
            "min    ...      0.000000     3.000000     1.000000      0.000000     0.000000   \n",
            "25%    ...   3840.000000    45.000000     3.000000      0.000000     0.000000   \n",
            "50%    ...   5120.000000    60.000000     5.000000      0.000000     0.000000   \n",
            "75%    ...   5120.000000   150.000000     7.000000      0.000000     0.000000   \n",
            "max    ...  30720.000000   710.000000     9.000000      1.000000     1.000000   \n",
            "\n",
            "       Is_Ultra_Beast  number_immune  number_not_effective  number_normal  \\\n",
            "count     1025.000000    1025.000000           1025.000000    1025.000000   \n",
            "mean         0.010732       0.627317              3.900488      10.213659   \n",
            "std          0.103087       0.744534              2.198155       3.051992   \n",
            "min          0.000000       0.000000              0.000000       2.000000   \n",
            "25%          0.000000       0.000000              2.000000       8.000000   \n",
            "50%          0.000000       0.000000              4.000000      11.000000   \n",
            "75%          0.000000       1.000000              5.000000      12.000000   \n",
            "max          1.000000       3.000000             11.000000      16.000000   \n",
            "\n",
            "       number_super_effective  \n",
            "count             1025.000000  \n",
            "mean                 3.258537  \n",
            "std                  1.478521  \n",
            "min                  1.000000  \n",
            "25%                  2.000000  \n",
            "50%                  3.000000  \n",
            "75%                  4.000000  \n",
            "max                  7.000000  \n",
            "\n",
            "[8 rows x 42 columns]\n"
          ]
        }
      ]
    },
    {
      "cell_type": "code",
      "source": [
        "# Le nombre de données manquantes\n",
        "nombre_total_manquants = df.isnull().sum().sum()\n",
        "print(nombre_total_manquants)"
      ],
      "metadata": {
        "colab": {
          "base_uri": "https://localhost:8080/"
        },
        "id": "J4P9uB6gFDm5",
        "outputId": "5de927bb-ed98-4aae-c400-affb3efedfe5"
      },
      "execution_count": 11,
      "outputs": [
        {
          "output_type": "stream",
          "name": "stdout",
          "text": [
            "1526\n"
          ]
        }
      ]
    },
    {
      "cell_type": "code",
      "source": [
        "# Le pourcentage de données manquantes\n",
        "pourcentage_manquants_par_colonne = (df.isnull().sum() / len(df)) * 100\n",
        "print(pourcentage_manquants_par_colonne)"
      ],
      "metadata": {
        "colab": {
          "base_uri": "https://localhost:8080/"
        },
        "id": "XUVMiN_HFi6N",
        "outputId": "6b2dc9ed-9928-4be0-a0aa-e3a9925462fe"
      },
      "execution_count": 12,
      "outputs": [
        {
          "output_type": "stream",
          "name": "stdout",
          "text": [
            "ID                         0.000000\n",
            "Name                       0.000000\n",
            "HP                         0.000000\n",
            "Attack                     0.000000\n",
            "Defense                    0.000000\n",
            "Sp. Attack                 0.000000\n",
            "Sp. Defense                0.000000\n",
            "Speed                      0.000000\n",
            "Base_Stats                 0.000000\n",
            "normal_weakness            0.000000\n",
            "fire_weakness              0.000000\n",
            "water_weakness             0.000000\n",
            "electric_weakness          0.000000\n",
            "grass_weakness             0.000000\n",
            "ice_weakness               0.000000\n",
            "fighting_weakness          0.000000\n",
            "poison_weakness            0.000000\n",
            "ground_weakness            0.000000\n",
            "flying_weakness            0.000000\n",
            "psychic_weakness           0.000000\n",
            "bug_weakness               0.000000\n",
            "rock_weakness              0.000000\n",
            "ghost_weakness             0.000000\n",
            "dragon_weakness            0.000000\n",
            "dark_weakness              0.000000\n",
            "steel_weakness             0.000000\n",
            "fairy_weakness             0.000000\n",
            "height_inches              0.000000\n",
            "height_meters              0.000000\n",
            "weight_pounds              0.000000\n",
            "weight_kilograms           0.000000\n",
            "capturing_rate             0.000000\n",
            "gender_male_ratio         15.121951\n",
            "egg_steps                  0.000000\n",
            "egg_cycles                 0.000000\n",
            "abilities                  0.000000\n",
            "Type 1                     0.000000\n",
            "Type 2                    48.682927\n",
            "Classification_info        0.000000\n",
            "Forms                     85.073171\n",
            "gen                        0.000000\n",
            "Is_Legendary               0.000000\n",
            "Is_Mythical                0.000000\n",
            "Is_Ultra_Beast             0.000000\n",
            "number_immune              0.000000\n",
            "number_not_effective       0.000000\n",
            "number_normal              0.000000\n",
            "number_super_effective     0.000000\n",
            "dtype: float64\n"
          ]
        }
      ]
    },
    {
      "cell_type": "code",
      "source": [
        "import seaborn as sns\n",
        "import matplotlib.pyplot as plt"
      ],
      "metadata": {
        "id": "_xAGZMMgLSyA"
      },
      "execution_count": 13,
      "outputs": []
    },
    {
      "cell_type": "code",
      "source": [
        "sns.boxplot(x=df['HP'])\n",
        "plt.show()"
      ],
      "metadata": {
        "colab": {
          "base_uri": "https://localhost:8080/",
          "height": 449
        },
        "id": "xzltK_4ALa3P",
        "outputId": "abd29260-8b39-4576-97f9-9c8a35ac5306"
      },
      "execution_count": 14,
      "outputs": [
        {
          "output_type": "display_data",
          "data": {
            "text/plain": [
              "<Figure size 640x480 with 1 Axes>"
            ],
            "image/png": "[encoded data removed]"
          },
          "metadata": {}
        }
      ]
    },
    {
      "cell_type": "code",
      "source": [
        "sns.boxplot(x=df['Attack'])\n",
        "plt.show()"
      ],
      "metadata": {
        "colab": {
          "base_uri": "https://localhost:8080/",
          "height": 449
        },
        "id": "EaIUvI8QL95u",
        "outputId": "bf56fd07-649e-4b54-afaf-14003c11f107"
      },
      "execution_count": 15,
      "outputs": [
        {
          "output_type": "display_data",
          "data": {
            "text/plain": [
              "<Figure size 640x480 with 1 Axes>"
            ],
            "image/png": "[encoded data removed]"
          },
          "metadata": {}
        }
      ]
    },
    {
      "cell_type": "code",
      "source": [
        "sns.boxplot(x=df['Defense'])\n",
        "plt.show()"
      ],
      "metadata": {
        "colab": {
          "base_uri": "https://localhost:8080/",
          "height": 449
        },
        "id": "JBLSg8FyM5Vc",
        "outputId": "da639a85-254e-4d88-d8ef-49bd3a86a408"
      },
      "execution_count": 16,
      "outputs": [
        {
          "output_type": "display_data",
          "data": {
            "text/plain": [
              "<Figure size 640x480 with 1 Axes>"
            ],
            "image/png": "[encoded data removed]"
          },
          "metadata": {}
        }
      ]
    },
    {
      "cell_type": "code",
      "source": [
        "sns.boxplot(x=df['Sp. Attack'])\n",
        "plt.show()"
      ],
      "metadata": {
        "colab": {
          "base_uri": "https://localhost:8080/",
          "height": 449
        },
        "id": "PK_c28Z-NbQp",
        "outputId": "967ef397-71b6-4079-bb1f-1b6c105ceb0a"
      },
      "execution_count": 18,
      "outputs": [
        {
          "output_type": "display_data",
          "data": {
            "text/plain": [
              "<Figure size 640x480 with 1 Axes>"
            ],
            "image/png": "[encoded data removed]"
          },
          "metadata": {}
        }
      ]
    },
    {
      "cell_type": "code",
      "source": [
        "sns.boxplot(x=df['Sp. Defense'])\n",
        "plt.show()"
      ],
      "metadata": {
        "colab": {
          "base_uri": "https://localhost:8080/",
          "height": 449
        },
        "id": "_ThN-ox4N8u5",
        "outputId": "08105f01-4ca1-4c07-ff93-c66a4feb1a84"
      },
      "execution_count": 19,
      "outputs": [
        {
          "output_type": "display_data",
          "data": {
            "text/plain": [
              "<Figure size 640x480 with 1 Axes>"
            ],
            "image/png": "[encoded data removed]"
          },
          "metadata": {}
        }
      ]
    },
    {
      "cell_type": "code",
      "source": [
        "sns.boxplot(x=df['Speed'])\n",
        "plt.show()"
      ],
      "metadata": {
        "colab": {
          "base_uri": "https://localhost:8080/",
          "height": 449
        },
        "id": "cMKfx8pAOa7o",
        "outputId": "eca2be95-34b1-46bb-ec2d-5ec78a59fc04"
      },
      "execution_count": 20,
      "outputs": [
        {
          "output_type": "display_data",
          "data": {
            "text/plain": [
              "<Figure size 640x480 with 1 Axes>"
            ],
            "image/png": "[encoded data removed]"
          },
          "metadata": {}
        }
      ]
    },
    {
      "cell_type": "code",
      "source": [
        "lignes_doubliquees = df[df.duplicated()]\n",
        "print(lignes_doubliquees)"
      ],
      "metadata": {
        "colab": {
          "base_uri": "https://localhost:8080/"
        },
        "id": "MrKfymFAPvRF",
        "outputId": "f14a9eb5-04d8-4916-eb36-dfd0e7dd3aa0"
      },
      "execution_count": 21,
      "outputs": [
        {
          "output_type": "stream",
          "name": "stdout",
          "text": [
            "Empty DataFrame\n",
            "Columns: [ID, Name, HP, Attack, Defense, Sp. Attack, Sp. Defense, Speed, Base_Stats, normal_weakness, fire_weakness, water_weakness, electric_weakness, grass_weakness, ice_weakness, fighting_weakness, poison_weakness, ground_weakness, flying_weakness, psychic_weakness, bug_weakness, rock_weakness, ghost_weakness, dragon_weakness, dark_weakness, steel_weakness, fairy_weakness, height_inches, height_meters, weight_pounds, weight_kilograms, capturing_rate, gender_male_ratio, egg_steps, egg_cycles, abilities, Type 1, Type 2, Classification_info, Forms, gen, Is_Legendary, Is_Mythical, Is_Ultra_Beast, number_immune, number_not_effective, number_normal, number_super_effective]\n",
            "Index: []\n",
            "\n",
            "[0 rows x 48 columns]\n"
          ]
        }
      ]
    }
  ]
}